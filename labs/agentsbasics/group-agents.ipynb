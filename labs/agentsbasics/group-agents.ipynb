{
 "cells": [
  {
   "cell_type": "code",
   "execution_count": 7,
   "metadata": {},
   "outputs": [
    {
     "name": "stdout",
     "output_type": "stream",
     "text": [
      "\u001b[33mUser_proxy\u001b[0m (to chat_manager):\n",
      "\n",
      "Suggest the buy or sell recommendation for the ICICIBANK stock.\n",
      "\n",
      "--------------------------------------------------------------------------------\n",
      "\u001b[32m\n",
      "Next speaker: Analyst\n",
      "\u001b[0m\n",
      "\u001b[33mAnalyst\u001b[0m (to chat_manager):\n",
      "\n",
      "To provide a buy or sell recommendation for ICICI Bank (ICICIBANK) stock, it's important to consider various factors including past performance, current market conditions, financial health, and future growth prospects. Here are some key points to consider:\n",
      "\n",
      "### Past Performance:\n",
      "1. **Historical Price Trends**: Analyze the stock's historical price movements over different time frames (e.g., 1 year, 5 years, 10 years). Look for patterns such as consistent growth, volatility, or periods of decline.\n",
      "2. **Earnings Reports**: Review the company's quarterly and annual earnings reports. Consistent revenue and profit growth are positive indicators.\n",
      "3. **Dividend History**: Check if the company has a history of paying dividends and whether those dividends have been increasing, stable, or decreasing.\n",
      "\n",
      "### Financial Health:\n",
      "1. **Balance Sheet**: Examine the company's assets, liabilities, and equity. A strong balance sheet with low debt and high liquidity is a good sign.\n",
      "2. **Profitability Ratios**: Look at ratios like Return on Equity (ROE), Return on Assets (ROA), and Net Profit Margin to assess profitability.\n",
      "3. **Valuation Ratios**: Consider Price-to-Earnings (P/E), Price-to-Book (P/B), and Price-to-Sales (P/S) ratios to determine if the stock is overvalued or undervalued compared to its peers.\n",
      "\n",
      "### Market Conditions:\n",
      "1. **Economic Indicators**: Consider the overall economic environment, including interest rates, inflation, and GDP growth, which can impact the banking sector.\n",
      "2. **Industry Trends**: Analyze trends in the banking industry, such as regulatory changes, technological advancements, and competitive landscape.\n",
      "\n",
      "### Future Prospects:\n",
      "1. **Growth Plans**: Look at the company's future growth plans, including expansion strategies, new product launches, and market penetration.\n",
      "2. **Analyst Ratings**: Consider the consensus ratings from financial analysts. A majority of \"buy\" ratings can be a positive indicator.\n",
      "3. **Macroeconomic Factors**: Consider how macroeconomic factors like government policies, international trade, and geopolitical events might impact the bank's performance.\n",
      "\n",
      "### Technical Analysis:\n",
      "1. **Moving Averages**: Check the stock's moving averages (e.g., 50-day, 200-day) to identify trends.\n",
      "2. **Relative Strength Index (RSI)**: An RSI above 70 indicates the stock may be overbought, while an RSI below 30 suggests it may be oversold.\n",
      "3. **Support and Resistance Levels**: Identify key support and resistance levels to understand potential price movements.\n",
      "\n",
      "### Recommendation:\n",
      "Based on the above factors, if ICICI Bank has shown consistent growth in earnings, maintains a strong balance sheet, and has positive future prospects, it may be a good candidate for a \"buy\" recommendation. Conversely, if the stock has been underperforming, has high debt levels, or faces significant industry challenges, a \"sell\" recommendation might be more appropriate.\n",
      "\n",
      "However, it's crucial to conduct your own research or consult with a financial advisor to make an informed decision tailored to your investment goals and risk tolerance.\n",
      "\n",
      "--------------------------------------------------------------------------------\n",
      "\u001b[32m\n",
      "Next speaker: User_proxy\n",
      "\u001b[0m\n",
      "\u001b[31m\n",
      ">>>>>>>> USING AUTO REPLY...\u001b[0m\n",
      "\u001b[33mUser_proxy\u001b[0m (to chat_manager):\n",
      "\n",
      "\n",
      "\n",
      "--------------------------------------------------------------------------------\n"
     ]
    },
    {
     "data": {
      "text/plain": [
       "ChatResult(chat_id=None, chat_history=[{'content': 'Suggest the buy or sell recommendation for the ICICIBANK stock.', 'role': 'assistant', 'name': 'User_proxy'}, {'content': 'To provide a buy or sell recommendation for ICICI Bank (ICICIBANK) stock, it\\'s important to consider various factors including past performance, current market conditions, financial health, and future growth prospects. Here are some key points to consider:\\n\\n### Past Performance:\\n1. **Historical Price Trends**: Analyze the stock\\'s historical price movements over different time frames (e.g., 1 year, 5 years, 10 years). Look for patterns such as consistent growth, volatility, or periods of decline.\\n2. **Earnings Reports**: Review the company\\'s quarterly and annual earnings reports. Consistent revenue and profit growth are positive indicators.\\n3. **Dividend History**: Check if the company has a history of paying dividends and whether those dividends have been increasing, stable, or decreasing.\\n\\n### Financial Health:\\n1. **Balance Sheet**: Examine the company\\'s assets, liabilities, and equity. A strong balance sheet with low debt and high liquidity is a good sign.\\n2. **Profitability Ratios**: Look at ratios like Return on Equity (ROE), Return on Assets (ROA), and Net Profit Margin to assess profitability.\\n3. **Valuation Ratios**: Consider Price-to-Earnings (P/E), Price-to-Book (P/B), and Price-to-Sales (P/S) ratios to determine if the stock is overvalued or undervalued compared to its peers.\\n\\n### Market Conditions:\\n1. **Economic Indicators**: Consider the overall economic environment, including interest rates, inflation, and GDP growth, which can impact the banking sector.\\n2. **Industry Trends**: Analyze trends in the banking industry, such as regulatory changes, technological advancements, and competitive landscape.\\n\\n### Future Prospects:\\n1. **Growth Plans**: Look at the company\\'s future growth plans, including expansion strategies, new product launches, and market penetration.\\n2. **Analyst Ratings**: Consider the consensus ratings from financial analysts. A majority of \"buy\" ratings can be a positive indicator.\\n3. **Macroeconomic Factors**: Consider how macroeconomic factors like government policies, international trade, and geopolitical events might impact the bank\\'s performance.\\n\\n### Technical Analysis:\\n1. **Moving Averages**: Check the stock\\'s moving averages (e.g., 50-day, 200-day) to identify trends.\\n2. **Relative Strength Index (RSI)**: An RSI above 70 indicates the stock may be overbought, while an RSI below 30 suggests it may be oversold.\\n3. **Support and Resistance Levels**: Identify key support and resistance levels to understand potential price movements.\\n\\n### Recommendation:\\nBased on the above factors, if ICICI Bank has shown consistent growth in earnings, maintains a strong balance sheet, and has positive future prospects, it may be a good candidate for a \"buy\" recommendation. Conversely, if the stock has been underperforming, has high debt levels, or faces significant industry challenges, a \"sell\" recommendation might be more appropriate.\\n\\nHowever, it\\'s crucial to conduct your own research or consult with a financial advisor to make an informed decision tailored to your investment goals and risk tolerance.', 'name': 'Analyst', 'role': 'user'}, {'content': '', 'role': 'assistant', 'name': 'User_proxy'}], summary='', cost={'usage_including_cached_inference': {'total_cost': 0}, 'usage_excluding_cached_inference': {'total_cost': 0}}, human_input=[])"
      ]
     },
     "execution_count": 7,
     "metadata": {},
     "output_type": "execute_result"
    }
   ],
   "source": [
    "import sys\n",
    "# adding llms to the system path, make sure to configure the file azureopenai in llms folder with end point details\n",
    "sys.path.append('C:\\\\proddev\\\\research\\\\aiagentssamples\\\\llms\\\\')\n",
    "import azureopenai\n",
    "from autogen import GroupChat, GroupChatManager\n",
    "from autogen import AssistantAgent\n",
    "from autogen import UserProxyAgent\n",
    "\n",
    "\n",
    "llm_config = {\n",
    "    \"seed\": 42,  # for caching the response\n",
    "    \"config_list\": azureopenai.config_list,\n",
    "    \"temperature\": 0  # for coding it is suggested to be less creative\n",
    "}\n",
    "\n",
    "\n",
    "user_proxy = UserProxyAgent(\n",
    "    name=\"User_proxy\",\n",
    "    system_message=\"A human admin.\",\n",
    "    code_execution_config={\n",
    "        \"last_n_messages\": 2,\n",
    "        \"work_dir\": \"groupchat\",\n",
    "        \"use_docker\": False,\n",
    "    },\n",
    "    # Please set use_docker=True if docker is available to run the generated code. Using docker is safer than running\n",
    "    # the generated code directly.\n",
    "    human_input_mode=\"TERMINATE\",\n",
    ")\n",
    "coder = AssistantAgent(\n",
    "    name=\"Coder\",\n",
    "    llm_config=llm_config,\n",
    ")\n",
    "pm = AssistantAgent(\n",
    "    name=\"Analyst\",\n",
    "    system_message=\"Analyst provide the recomandation for by or sell based on stocks past performance.\",\n",
    "    llm_config=llm_config,\n",
    ")\n",
    "group_chat = GroupChat(agents=[user_proxy, coder, pm], messages=[], max_round=3)\n",
    "manager = GroupChatManager(groupchat=group_chat, llm_config=llm_config)\n",
    "user_proxy.initiate_chat(\n",
    "    manager, message=\"Suggest the buy or sell recommendation for the ICICIBANK stock.\"\n",
    ")"
   ]
  }
 ],
 "metadata": {
  "kernelspec": {
   "display_name": ".venv",
   "language": "python",
   "name": "python3"
  },
  "language_info": {
   "codemirror_mode": {
    "name": "ipython",
    "version": 3
   },
   "file_extension": ".py",
   "mimetype": "text/x-python",
   "name": "python",
   "nbconvert_exporter": "python",
   "pygments_lexer": "ipython3",
   "version": "3.11.9"
  }
 },
 "nbformat": 4,
 "nbformat_minor": 2
}
