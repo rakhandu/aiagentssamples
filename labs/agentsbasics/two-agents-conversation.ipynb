{
 "cells": [
  {
   "cell_type": "code",
   "execution_count": 1,
   "metadata": {},
   "outputs": [
    {
     "name": "stdout",
     "output_type": "stream",
     "text": [
      "\u001b[33mjoe\u001b[0m (to cathy):\n",
      "\n",
      "cathy, tell me a General Knowledge Question.\n",
      "\n",
      "--------------------------------------------------------------------------------\n",
      "\u001b[33mcathy\u001b[0m (to joe):\n",
      "\n",
      "Sure, Joe! Here's a general knowledge question for you:\n",
      "\n",
      "What is the capital city of Australia?\n",
      "\n",
      "--------------------------------------------------------------------------------\n",
      "\u001b[33mjoe\u001b[0m (to cathy):\n",
      "\n",
      "The capital city of Australia is Canberra.\n",
      "\n",
      "--------------------------------------------------------------------------------\n",
      "\u001b[33mcathy\u001b[0m (to joe):\n",
      "\n",
      "That's correct, Joe! Well done. Canberra is indeed the capital city of Australia. Would you like another question?\n",
      "\n",
      "--------------------------------------------------------------------------------\n",
      "\u001b[33mjoe\u001b[0m (to cathy):\n",
      "\n",
      "Yes, Cathy, I'd love another question! What do you have for me?\n",
      "\n",
      "--------------------------------------------------------------------------------\n",
      "\u001b[33mcathy\u001b[0m (to joe):\n",
      "\n",
      "Great to hear, Joe! Here's another question for you:\n",
      "\n",
      "Which planet in our solar system is known as the \"Red Planet\"?\n",
      "\n",
      "--------------------------------------------------------------------------------\n"
     ]
    }
   ],
   "source": [
    "import sys\n",
    "# adding llms to the system path, make sure to configure the file azureopenai in llms folder with end point details\n",
    "sys.path.append('C:\\\\proddev\\\\research\\\\aiagentssamples\\\\llms\\\\')\n",
    "import azureopenai\n",
    "\n",
    "from autogen import ConversableAgent\n",
    "\n",
    "llm_config = {\n",
    "    \"seed\": 42,  # for caching the response\n",
    "    \"config_list\": azureopenai.config_list,\n",
    "    \"temperature\": 0.5  # for coding, it is suggested to be less creative\n",
    "}\n",
    "\n",
    "\n",
    "cathy = ConversableAgent(\n",
    "    \"cathy\",\n",
    "    system_message=\"Your name is cathy and you are a Teacher from General Knowledge Group and Suppose to ask questions to students.\",\n",
    "    llm_config=llm_config,\n",
    "    human_input_mode=\"NEVER\",  # Never ask for human input.\n",
    ")\n",
    "\n",
    "joe = ConversableAgent(\n",
    "    \"joe\",\n",
    "    system_message=\"Your name is Joe and you are student from General Knowledge Group and suppose to answer for questions asked to you.\",\n",
    "    llm_config=llm_config,\n",
    "    human_input_mode=\"NEVER\",  # Never ask for human input.\n",
    ")\n",
    "\n",
    "result = joe.initiate_chat(cathy, message=\"cathy, tell me a General Knowledge Question.\", max_turns=3)\n"
   ]
  }
 ],
 "metadata": {
  "kernelspec": {
   "display_name": ".venv",
   "language": "python",
   "name": "python3"
  },
  "language_info": {
   "codemirror_mode": {
    "name": "ipython",
    "version": 3
   },
   "file_extension": ".py",
   "mimetype": "text/x-python",
   "name": "python",
   "nbconvert_exporter": "python",
   "pygments_lexer": "ipython3",
   "version": "3.11.9"
  }
 },
 "nbformat": 4,
 "nbformat_minor": 2
}
