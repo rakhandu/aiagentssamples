{
 "cells": [
  {
   "cell_type": "code",
   "execution_count": 4,
   "metadata": {},
   "outputs": [
    {
     "name": "stdout",
     "output_type": "stream",
     "text": [
      "Response:\n",
      "Yes, the student's solution is correct. The total cost for the first year of operations, as a function of the number of square feet \\( x \\), is \\( 450x + 100,000 \\).\n",
      "AI Response: Yes, the student's solution is correct. The total cost for the first year of operations, as a function of the number of square feet \\( x \\), is \\( 450x + 100,000 \\).\n"
     ]
    }
   ],
   "source": [
    "import os\n",
    "import openai\n",
    "from openai import AzureOpenAI\n",
    "\n",
    "\n",
    "#learn more about the prompt examples - https://platform.openai.com/docs/examples\n",
    "class PromptExamples:\n",
    "\n",
    "    system_prompt_1 = \"Answer if the student's solution is correct or not in yes or no.\"\n",
    "    system_prompt_2 = \"First work out your own solution to the problem. Then compare your solution to the student's solution and evaluate if the student's solution is correct or not. Don't decide if the student's solution is correct until you have done the problem yourself.\"\n",
    "    user_prompt = \"\"\"Problem Statement: I'm building a solar power installation and I need help working out the financials.\n",
    "    - Land costs $100 / square foot\n",
    "    - I can buy solar panels for $250 / square foot\n",
    "    - I negotiated a contract for maintenance that will cost me a flat $100k per year, and an additional $10 / square foot\n",
    "    What is the total cost for the first year of operations as a function of the number of square feet.\n",
    "\n",
    "    Student's Solution: Let x be the size of the installation in square feet.\n",
    "    1. Land cost: 100x\n",
    "    2. Solar panel cost: 250x\n",
    "    3. Maintenance cost: 100,000 + 100x\n",
    "    Total cost: 100x + 250x + 100,000 + 100x = 450x + 100,000\"\"\"\n",
    "\n",
    "\n",
    "# Set your Azure OpenAI API Key and Endpoint (replace with your values)\n",
    "\n",
    "# adding llms to the system path, make sure to configure the file azureopenai in llms folder with end point details\n",
    "import sys\n",
    "sys.path.append('C:\\\\proddev\\\\research\\\\aiagentssamples\\\\llms\\\\')\n",
    "import azureopenai\n",
    "api_key = os.getenv(\"AZURE_OPENAI_API_KEY\")\n",
    "endpoint = os.getenv(\"AZURE_OPENAI_API_KEY_END_POINT\")\n",
    "\n",
    "MODEL_NAME = \"gpt4olearning\"\n",
    "openai.api_version= \"2023-03-15-preview\"\n",
    "openai.api_type =\"azure\"\n",
    "\n",
    "\n",
    "client = AzureOpenAI(azure_endpoint=endpoint,api_version=\"2024-02-01\",api_key=api_key)\n",
    "\n",
    "response = client.chat.completions.create(\n",
    "    model=MODEL_NAME,\n",
    "    temperature=0.7,\n",
    "    n=1,\n",
    "    messages=[\n",
    "        {\"role\": \"system\", \"content\": PromptExamples.system_prompt_2},\n",
    "        {\"role\": \"user\", \"content\": PromptExamples.user_prompt},\n",
    "        #{\"role\": \"assistant\", \"content\": PromptExamples.assistant_prompt}\n",
    "    ],\n",
    ")\n",
    "\n",
    "print(\"Response:\")\n",
    "print(response.choices[0].message.content)\n",
    "# Extract the response from the model\n",
    "generated_text = response.choices[0].message.content\n",
    "\n",
    "# Print the response\n",
    "print(f\"AI Response: {generated_text}\")\n"
   ]
  }
 ],
 "metadata": {
  "kernelspec": {
   "display_name": ".venv",
   "language": "python",
   "name": "python3"
  },
  "language_info": {
   "codemirror_mode": {
    "name": "ipython",
    "version": 3
   },
   "file_extension": ".py",
   "mimetype": "text/x-python",
   "name": "python",
   "nbconvert_exporter": "python",
   "pygments_lexer": "ipython3",
   "version": "3.11.9"
  }
 },
 "nbformat": 4,
 "nbformat_minor": 2
}
