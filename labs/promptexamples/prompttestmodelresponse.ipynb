{
 "cells": [
  {
   "cell_type": "code",
   "execution_count": 5,
   "metadata": {},
   "outputs": [
    {
     "name": "stdout",
     "output_type": "stream",
     "text": [
      "AI Response: 1 - Neil Armstrong was the first person to walk on the moon.\n",
      "2 - Citation: \"Armstrong took a step, history unfurled, 'One small step,' he said, for a new world.\"\n",
      "3 - While the citation mentions Armstrong taking a step and making history, it does not explicitly state that he was the first person to walk on the moon. Someone unfamiliar with the topic might not infer that he was the first.\n",
      "4 - No\n",
      "\n",
      "1 - The date Neil Armstrong first walked on the moon was July 21, 1969.\n",
      "2 - Citation: \"In the summer of '69, a voyage grand, Apollo 11, bold as legend's hand.\"\n",
      "3 - The citation mentions the summer of '69 and the Apollo 11 mission, but it does not provide the specific date of July 21, 1969. Therefore, someone unfamiliar with the topic would not be able to directly infer the exact date.\n",
      "4 - No\n",
      "\n",
      "{\"count\": 0}\n"
     ]
    },
    {
     "ename": "",
     "evalue": "",
     "output_type": "error",
     "traceback": [
      "\u001b[1;31mThe Kernel crashed while executing code in the current cell or a previous cell. \n",
      "\u001b[1;31mPlease review the code in the cell(s) to identify a possible cause of the failure. \n",
      "\u001b[1;31mClick <a href='https://aka.ms/vscodeJupyterKernelCrash'>here</a> for more info. \n",
      "\u001b[1;31mView Jupyter <a href='command:jupyter.viewOutput'>log</a> for further details."
     ]
    }
   ],
   "source": [
    "import os\n",
    "import openai\n",
    "from openai import AzureOpenAI\n",
    "\n",
    "\n",
    "#learn more about the prompt examples - https://platform.openai.com/docs/examples\n",
    "class PromptExamples:\n",
    "\n",
    "    system_prompt_1 = \"\"\"\n",
    "        You will be provided with text delimited by triple quotes that is supposed to be the answer to a question. Check if the following pieces of information are directly contained in the answer:\n",
    "\n",
    "        - Neil Armstrong was the first person to walk on the moon.\n",
    "        - The date Neil Armstrong first walked on the moon was July 21, 1969.\n",
    "\n",
    "        For each of these points perform the following steps:\n",
    "\n",
    "        1 - Restate the point.\n",
    "        2 - Provide a citation from the answer which is closest to this point.\n",
    "        3 - Consider if someone reading the citation who doesn't know the topic could directly infer the point. Explain why or why not before making up your mind.\n",
    "        4 - Write \"yes\" if the answer to 3 was yes, otherwise write \"no\".\n",
    "\n",
    "        Finally, provide a count of how many \"yes\" answers there are. Provide this count as {\"count\": <insert count here>}.\n",
    "    \"\"\"\n",
    "    user_prompt = \"\"\"Neil Armstrong is famous for being the first human to set foot on the Moon. This historic event took place on July 21, 1969, during the Apollo 11 mission.\"\"\"\n",
    "    user_prompt_1 = \"\"\"In the summer of '69, a voyage grand,\n",
    "Apollo 11, bold as legend's hand.\n",
    "Armstrong took a step, history unfurled,\n",
    "\"One small step,\" he said, for a new world.\"\"\"\n",
    "\n",
    "\n",
    "# Set your Azure OpenAI API Key and Endpoint (replace with your values)\n",
    "\n",
    "# adding llms to the system path, make sure to configure the file azureopenai in llms folder with end point details\n",
    "import sys\n",
    "sys.path.append('C:\\\\proddev\\\\research\\\\aiagentssamples\\\\llms\\\\')\n",
    "import azureopenai\n",
    "api_key = os.getenv(\"AZURE_OPENAI_API_KEY\")\n",
    "endpoint = os.getenv(\"AZURE_OPENAI_API_KEY_END_POINT\")\n",
    "\n",
    "MODEL_NAME = \"gpt4olearning\"\n",
    "openai.api_version= \"2023-03-15-preview\"\n",
    "openai.api_type =\"azure\"\n",
    "\n",
    "\n",
    "client = AzureOpenAI(azure_endpoint=endpoint,api_version=\"2024-02-01\",api_key=api_key)\n",
    "\n",
    "response = client.chat.completions.create(\n",
    "    model=MODEL_NAME,\n",
    "    temperature=0.7,\n",
    "    n=1,\n",
    "    messages=[\n",
    "        {\"role\": \"system\", \"content\": PromptExamples.system_prompt_1},\n",
    "        {\"role\": \"user\", \"content\": PromptExamples.user_prompt_1},\n",
    "        #{\"role\": \"assistant\", \"content\": PromptExamples.assistant_prompt}\n",
    "    ],\n",
    ")\n",
    "\n",
    "#print(\"Response:\")\n",
    "#print(response.choices[0].message.content)\n",
    "# Extract the response from the model\n",
    "generated_text = response.choices[0].message.content\n",
    "\n",
    "# Print the response\n",
    "print(f\"AI Response: {generated_text}\")\n"
   ]
  }
 ],
 "metadata": {
  "kernelspec": {
   "display_name": ".venv",
   "language": "python",
   "name": "python3"
  },
  "language_info": {
   "codemirror_mode": {
    "name": "ipython",
    "version": 3
   },
   "file_extension": ".py",
   "mimetype": "text/x-python",
   "name": "python",
   "nbconvert_exporter": "python",
   "pygments_lexer": "ipython3",
   "version": "3.11.9"
  }
 },
 "nbformat": 4,
 "nbformat_minor": 2
}
